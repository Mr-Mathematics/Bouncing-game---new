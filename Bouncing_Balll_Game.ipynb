{
  "nbformat": 4,
  "nbformat_minor": 0,
  "metadata": {
    "colab": {
      "provenance": [],
      "authorship_tag": "ABX9TyN8BWKc02fxLNz2ZTITqxpe",
      "include_colab_link": true
    },
    "kernelspec": {
      "name": "python3",
      "display_name": "Python 3"
    },
    "language_info": {
      "name": "python"
    }
  },
  "cells": [
    {
      "cell_type": "markdown",
      "metadata": {
        "id": "view-in-github",
        "colab_type": "text"
      },
      "source": [
        "<a href=\"https://colab.research.google.com/github/Mr-Mathematics/Bouncing-game---new/blob/main/Bouncing_Balll_Game.ipynb\" target=\"_parent\"><img src=\"https://colab.research.google.com/assets/colab-badge.svg\" alt=\"Open In Colab\"/></a>"
      ]
    },
    {
      "cell_type": "code",
      "execution_count": 1,
      "metadata": {
        "colab": {
          "base_uri": "https://localhost:8080/",
          "height": 363
        },
        "id": "dAI4q9hSJZ28",
        "outputId": "b6567f97-59aa-4cca-ea01-0e12850c0de6"
      },
      "outputs": [
        {
          "output_type": "error",
          "ename": "TclError",
          "evalue": "ignored",
          "traceback": [
            "\u001b[0;31m---------------------------------------------------------------------------\u001b[0m",
            "\u001b[0;31mTclError\u001b[0m                                  Traceback (most recent call last)",
            "\u001b[0;32m<ipython-input-1-68431bf47fec>\u001b[0m in \u001b[0;36m<module>\u001b[0;34m\u001b[0m\n\u001b[1;32m     65\u001b[0m \u001b[0;34m\u001b[0m\u001b[0m\n\u001b[1;32m     66\u001b[0m \u001b[0;34m\u001b[0m\u001b[0m\n\u001b[0;32m---> 67\u001b[0;31m \u001b[0mtk\u001b[0m \u001b[0;34m=\u001b[0m \u001b[0mTk\u001b[0m\u001b[0;34m(\u001b[0m\u001b[0;34m)\u001b[0m\u001b[0;34m\u001b[0m\u001b[0;34m\u001b[0m\u001b[0m\n\u001b[0m\u001b[1;32m     68\u001b[0m \u001b[0mtk\u001b[0m\u001b[0;34m.\u001b[0m\u001b[0mtitle\u001b[0m\u001b[0;34m(\u001b[0m\u001b[0;34m\"Bouncing Ball Game\"\u001b[0m\u001b[0;34m)\u001b[0m\u001b[0;34m\u001b[0m\u001b[0;34m\u001b[0m\u001b[0m\n\u001b[1;32m     69\u001b[0m \u001b[0mtk\u001b[0m\u001b[0;34m.\u001b[0m\u001b[0mresizable\u001b[0m\u001b[0;34m(\u001b[0m\u001b[0;36m0\u001b[0m\u001b[0;34m,\u001b[0m \u001b[0;36m0\u001b[0m\u001b[0;34m)\u001b[0m\u001b[0;34m\u001b[0m\u001b[0;34m\u001b[0m\u001b[0m\n",
            "\u001b[0;32m/usr/lib/python3.7/tkinter/__init__.py\u001b[0m in \u001b[0;36m__init__\u001b[0;34m(self, screenName, baseName, className, useTk, sync, use)\u001b[0m\n\u001b[1;32m   2021\u001b[0m                 \u001b[0mbaseName\u001b[0m \u001b[0;34m=\u001b[0m \u001b[0mbaseName\u001b[0m \u001b[0;34m+\u001b[0m \u001b[0mext\u001b[0m\u001b[0;34m\u001b[0m\u001b[0;34m\u001b[0m\u001b[0m\n\u001b[1;32m   2022\u001b[0m         \u001b[0minteractive\u001b[0m \u001b[0;34m=\u001b[0m \u001b[0;36m0\u001b[0m\u001b[0;34m\u001b[0m\u001b[0;34m\u001b[0m\u001b[0m\n\u001b[0;32m-> 2023\u001b[0;31m         \u001b[0mself\u001b[0m\u001b[0;34m.\u001b[0m\u001b[0mtk\u001b[0m \u001b[0;34m=\u001b[0m \u001b[0m_tkinter\u001b[0m\u001b[0;34m.\u001b[0m\u001b[0mcreate\u001b[0m\u001b[0;34m(\u001b[0m\u001b[0mscreenName\u001b[0m\u001b[0;34m,\u001b[0m \u001b[0mbaseName\u001b[0m\u001b[0;34m,\u001b[0m \u001b[0mclassName\u001b[0m\u001b[0;34m,\u001b[0m \u001b[0minteractive\u001b[0m\u001b[0;34m,\u001b[0m \u001b[0mwantobjects\u001b[0m\u001b[0;34m,\u001b[0m \u001b[0museTk\u001b[0m\u001b[0;34m,\u001b[0m \u001b[0msync\u001b[0m\u001b[0;34m,\u001b[0m \u001b[0muse\u001b[0m\u001b[0;34m)\u001b[0m\u001b[0;34m\u001b[0m\u001b[0;34m\u001b[0m\u001b[0m\n\u001b[0m\u001b[1;32m   2024\u001b[0m         \u001b[0;32mif\u001b[0m \u001b[0museTk\u001b[0m\u001b[0;34m:\u001b[0m\u001b[0;34m\u001b[0m\u001b[0;34m\u001b[0m\u001b[0m\n\u001b[1;32m   2025\u001b[0m             \u001b[0mself\u001b[0m\u001b[0;34m.\u001b[0m\u001b[0m_loadtk\u001b[0m\u001b[0;34m(\u001b[0m\u001b[0;34m)\u001b[0m\u001b[0;34m\u001b[0m\u001b[0;34m\u001b[0m\u001b[0m\n",
            "\u001b[0;31mTclError\u001b[0m: no display name and no $DISPLAY environment variable"
          ]
        }
      ],
      "source": [
        "from tkinter import *\n",
        "import random\n",
        "import time\n",
        "\n",
        "\n",
        "class Ball:\n",
        "    def __init__(self, canvas, paddle, color):\n",
        "        self.canvas = canvas\n",
        "        self.paddle = paddle\n",
        "        self.id = canvas.create_oval(10, 10, 25, 25, fill=color)\n",
        "        self.canvas.move(self.id, 245, 100)\n",
        "        starts = [-3, -2, -1, 1, 2, 3]\n",
        "        random.shuffle(starts)\n",
        "        self.x = starts[0]\n",
        "        self.y = -3\n",
        "        self.canvas_height = self.canvas.winfo_height()\n",
        "        self.canvas_width = self.canvas.winfo_width()\n",
        "        self.hit_bottom = False\n",
        "\n",
        "    def hit_paddle(self, pos):\n",
        "        paddle_pos = self.canvas.coords(self.paddle.id)\n",
        "        if pos[2] >= paddle_pos[0] and pos[0] <= paddle_pos[2]:\n",
        "            if pos[3] >= paddle_pos[1] and pos[3] <= paddle_pos[3]:\n",
        "                return True\n",
        "            return False\n",
        "\n",
        "    def draw(self):\n",
        "        self.canvas.move(self.id, self.x, self.y)\n",
        "        pos = self.canvas.coords(self.id)\n",
        "        if pos[1] <= 0:\n",
        "            self.y = 2\n",
        "        if pos[3] >= self.canvas_height:\n",
        "            self.hit_bottom = True\n",
        "        if self.hit_paddle(pos):\n",
        "            self.y = -2\n",
        "        if pos[0] <= 0:\n",
        "            self.x = 2\n",
        "        if pos[2] >= self.canvas_width:\n",
        "            self.x = -2\n",
        "\n",
        "\n",
        "class Paddle:\n",
        "    def __init__(self, canvas, color):\n",
        "        self.canvas = canvas\n",
        "        self.id = canvas.create_rectangle(0, 0, 100, 10, fill=color)\n",
        "        self.canvas.move(self.id, 200, 300)\n",
        "        self.x = 0\n",
        "        self.canvas_width = self.canvas.winfo_width()\n",
        "        self.canvas.bind_all('<KeyPress-Left>', self.turn_left)\n",
        "        self.canvas.bind_all('<KeyPress-Right>', self.turn_right)\n",
        "\n",
        "    def draw(self):\n",
        "        self.canvas.move(self.id, self.x, 0)\n",
        "        pos = self.canvas.coords(self.id)\n",
        "        if pos[0] <= 0:\n",
        "            self.x = 0\n",
        "        elif pos[2] >= self.canvas_width:\n",
        "            self.x = 0\n",
        "\n",
        "    def turn_left(self, evt):\n",
        "        self.x = -3\n",
        "\n",
        "    def turn_right(self, evt):\n",
        "        self.x = 3\n",
        "\n",
        "\n",
        "tk = Tk()\n",
        "tk.title(\"Bouncing Ball Game\")\n",
        "tk.resizable(0, 0)\n",
        "tk.wm_attributes(\"-topmost\", 1)\n",
        "canvas = Canvas(tk, width=500, height=400, bd=0, highlightthickness=0)\n",
        "canvas.pack()\n",
        "tk.update()\n",
        "\n",
        "paddle = Paddle(canvas, 'blue')\n",
        "ball = Ball(canvas, paddle, 'gray')\n",
        "\n",
        "while 1:\n",
        "    if not ball.hit_bottom:\n",
        "        ball.draw()\n",
        "        paddle.draw()\n",
        "    tk.update_idletasks()\n",
        "    tk.update()\n",
        "    time.sleep(0.01)\n",
        "\n",
        "\n"
      ]
    }
  ]
}